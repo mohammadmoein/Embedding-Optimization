{
 "cells": [
  {
   "cell_type": "code",
   "execution_count": 43,
   "metadata": {
    "collapsed": false
   },
   "outputs": [],
   "source": [
    "from sklearn import datasets\n",
    "from sklearn.neighbors import kneighbors_graph\n",
    "import numpy as np\n",
    "from scipy.sparse.csgraph import laplacian\n",
    "import networkx as nx\n",
    "import matplotlib.pyplot as plt\n",
    "import seaborn as sns\n",
    "\n",
    "%matplotlib inline\n",
    "sns.set()"
   ]
  },
  {
   "cell_type": "code",
   "execution_count": 19,
   "metadata": {
    "collapsed": false
   },
   "outputs": [
    {
     "name": "stdout",
     "output_type": "stream",
     "text": [
      "[[ 0.  1.  1.  0.  1.]\n",
      " [ 1.  0.  1.  0.  1.]\n",
      " [ 0.  1.  0.  1.  1.]\n",
      " [ 0.  1.  1.  0.  1.]\n",
      " [ 1.  1.  1.  0.  0.]]\n"
     ]
    }
   ],
   "source": [
    "x,y = datasets.make_moons(n_samples=5)\n",
    "adj_mat = kneighbors_graph(x,n_neighbors=3,include_self=False)\n",
    "print (adj_mat.toarray())"
   ]
  },
  {
   "cell_type": "code",
   "execution_count": 27,
   "metadata": {
    "collapsed": false
   },
   "outputs": [
    {
     "name": "stdout",
     "output_type": "stream",
     "text": [
      "csr\n",
      "[[ 3. -1. -1.  0. -1.]\n",
      " [-1.  3. -1.  0. -1.]\n",
      " [ 0. -1.  3. -1. -1.]\n",
      " [ 0. -1. -1.  3. -1.]\n",
      " [-1. -1. -1.  0.  3.]]\n",
      "\n",
      "\n",
      "[[ 3. -1. -1.  0. -1.]\n",
      " [-1.  3. -1.  0. -1.]\n",
      " [ 0. -1.  3. -1. -1.]\n",
      " [ 0. -1. -1.  3. -1.]\n",
      " [-1. -1. -1.  0.  3.]]\n",
      "\n",
      "[[ 3. -1. -0. -0. -1.]\n",
      " [-1.  3. -1. -1. -1.]\n",
      " [-1. -1.  3. -1. -1.]\n",
      " [-0. -0. -1.  3. -0.]\n",
      " [-1. -1. -1. -1.  3.]]\n"
     ]
    }
   ],
   "source": [
    "adj_dense = adj_mat.toarray()\n",
    "print adj_mat.format\n",
    "print(laplacian(adj_mat.T).toarray()).T\n",
    "print ('\\n')\n",
    "print (np.diag(adj_mat.dot(np.ones(adj_mat.shape[0])))-adj_mat)\n",
    "print '\\n',laplacian(adj_dense.T)"
   ]
  },
  {
   "cell_type": "code",
   "execution_count": 30,
   "metadata": {
    "collapsed": false
   },
   "outputs": [],
   "source": [
    "from scipy.sparse.linalg import eigs"
   ]
  },
  {
   "cell_type": "code",
   "execution_count": 31,
   "metadata": {
    "collapsed": true
   },
   "outputs": [],
   "source": [
    "scipy_laplacia = laplacian(adj_mat,normed=False)\n",
    "eig,emb = eigs(scipy_laplacia,k=2)"
   ]
  },
  {
   "cell_type": "code",
   "execution_count": 38,
   "metadata": {
    "collapsed": false
   },
   "outputs": [
    {
     "name": "stderr",
     "output_type": "stream",
     "text": [
      "/home/mohammad/anaconda2/lib/python2.7/site-packages/ipykernel/__main__.py:1: ComplexWarning: Casting complex values to real discards the imaginary part\n",
      "  if __name__ == '__main__':\n"
     ]
    },
    {
     "data": {
      "text/plain": [
       "array([[ -4.94200777e-01,  -2.46198809e-17],\n",
       "       [ -2.21013306e-01,  -7.80017599e-01],\n",
       "       [  1.36593735e-01,   1.81012606e-01],\n",
       "       [  7.99633654e-01,  -4.36734867e-17],\n",
       "       [ -2.21013306e-01,   5.99004993e-01]])"
      ]
     },
     "execution_count": 38,
     "metadata": {},
     "output_type": "execute_result"
    }
   ],
   "source": [
    "emb.astype(np.float)"
   ]
  },
  {
   "cell_type": "code",
   "execution_count": 41,
   "metadata": {
    "collapsed": false
   },
   "outputs": [
    {
     "name": "stderr",
     "output_type": "stream",
     "text": [
      "/home/mohammad/anaconda2/lib/python2.7/site-packages/sklearn/utils/validation.py:373: ComplexWarning: Casting complex values to real discards the imaginary part\n",
      "  array = np.array(array, dtype=dtype, order=order, copy=copy)\n"
     ]
    }
   ],
   "source": [
    "from sklearn.cluster import KMeans\n",
    "clf = KMeans(n_clusters=2)\n",
    "y_pred = clf.fit_predict(emb)\n"
   ]
  },
  {
   "cell_type": "code",
   "execution_count": 46,
   "metadata": {
    "collapsed": false
   },
   "outputs": [
    {
     "name": "stdout",
     "output_type": "stream",
     "text": [
      "(5, 2) (5,)\n"
     ]
    },
    {
     "name": "stderr",
     "output_type": "stream",
     "text": [
      "/home/mohammad/anaconda2/lib/python2.7/site-packages/numpy/core/numeric.py:533: ComplexWarning: Casting complex values to real discards the imaginary part\n",
      "  return array(a, dtype, copy=False, order=order, subok=True)\n"
     ]
    },
    {
     "data": {
      "text/plain": [
       "<matplotlib.collections.PathCollection at 0x7fd55003a1d0>"
      ]
     },
     "execution_count": 46,
     "metadata": {},
     "output_type": "execute_result"
    },
    {
     "data": {
      "image/png": "[encoded data removed]",
      "text/plain": [
       "<matplotlib.figure.Figure at 0x7fd55057b9d0>"
      ]
     },
     "metadata": {},
     "output_type": "display_data"
    },
    {
     "data": {
      "image/png": "[encoded data removed]",
      "text/plain": [
       "<matplotlib.figure.Figure at 0x7fd55057bd10>"
      ]
     },
     "metadata": {},
     "output_type": "display_data"
    }
   ],
   "source": [
    "print x.shape,y.shape\n",
    "\n",
    "plt.scatter(x[:,0],x[:,1],c=y)\n",
    "plt.figure()\n",
    "plt.scatter(emb[:,0],emb[:,1],c=y_pred)"
   ]
  },
  {
   "cell_type": "code",
   "execution_count": null,
   "metadata": {
    "collapsed": true
   },
   "outputs": [],
   "source": []
  }
 ],
 "metadata": {
  "kernelspec": {
   "display_name": "Python [Root]",
   "language": "python",
   "name": "Python [Root]"
  },
  "language_info": {
   "codemirror_mode": {
    "name": "ipython",
    "version": 2
   },
   "file_extension": ".py",
   "mimetype": "text/x-python",
   "name": "python",
   "nbconvert_exporter": "python",
   "pygments_lexer": "ipython2",
   "version": "2.7.12"
  }
 },
 "nbformat": 4,
 "nbformat_minor": 0
}
