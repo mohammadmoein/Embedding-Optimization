{
 "cells": [
  {
   "cell_type": "code",
   "execution_count": 1,
   "metadata": {
    "collapsed": false
   },
   "outputs": [
    {
     "name": "stdout",
     "output_type": "stream",
     "text": [
      "Using matplotlib backend: Qt4Agg\n"
     ]
    }
   ],
   "source": [
    "import numpy as np\n",
    "%matplotlib \n",
    "import matplotlib.pyplot as plt\n",
    "import seaborn as sns\n",
    "import scipy.sparse as sp\n",
    "from sklearn.datasets import make_moons\n",
    "from sklearn.neighbors import kneighbors_graph\n",
    "from scipy.sparse.csgraph import laplacian\n",
    "from sklearn.cluster import KMeans\n",
    "from sklearn.preprocessing import normalize\n",
    "sns.set_style(\"dark\")\n",
    "sns.set_context(\"notebook\", font_scale=1.5, rc={\"lines.linewidth\": 2.5})\n",
    "from scipy.linalg import eigh"
   ]
  },
  {
   "cell_type": "code",
   "execution_count": 30,
   "metadata": {
    "collapsed": false
   },
   "outputs": [],
   "source": [
    "def energy(H,A,A_c):\n",
    "    tmp = A-A_c\n",
    "    lap = laplacian(A,normed=False)\n",
    "    return np.trace(tmp.dot(tmp.T)) + np.trace(H.T.dot(lap).dot(H)) #+ np.trace(A.dot(A.T))\n",
    "def solve_H(A,P,B,r,cluster=2,optimal = False,ld=1):\n",
    "    lap = laplacian(A,normed=False)\n",
    "    if optimal ==True:\n",
    "        _,embedding = eigh(lap, eigvals=(0, cluster - 1))\n",
    "        return embedding\n",
    "    return np.linalg.solve(ld*(lap.T+lap)+r*np.identity(lap.shape[0]),r*(P-B))\n",
    "def solve_A(H,A_c,ld=1):\n",
    "    diag_grad = (H**2).sum(axis=1).reshape(-1,1)\n",
    "    diag_grad = np.tile(diag_grad,(1,A_c.shape[1]))\n",
    "    res = ld*H.dot(H.T) + ld * A_c  - diag_grad\n",
    "    return res/4.0\n",
    "\n",
    "def bregman_fit(data_x,n_neighbors=5,n_cluster=2,iteration=100,r=0.1,optimal=False,ld=1):\n",
    "    adj_matrix = kneighbors_graph(data_x,n_neighbors=n_neighbors ,include_self=False).toarray()\n",
    "    adj_matrix = 0.5*(adj_matrix+adj_matrix.T)\n",
    "    laplacianMatrix =laplacian(adj_matrix,normed=False)\n",
    "    A_c = adj_matrix.copy()\n",
    "    #Initializaiton\n",
    "\n",
    "    # H=np.random.randn(X.shape[0],self.n_cluster)\n",
    "    H=np.arange(data_x.shape[0]*n_cluster).reshape(data_x.shape[0],n_cluster)\n",
    "    P = H\n",
    "    row,_ = H.shape\n",
    "    B = np.zeros(shape=H.shape)\n",
    "    energies  = np.zeros((3,iteration),dtype = np.float)\n",
    "    changed = np.zeros((2,iteration),dtype=np.float)\n",
    "    for i in range(iteration):\n",
    "        currentEnergy = energy(H, adj_matrix, A_c)\n",
    "        energies[0,i] = currentEnergy\n",
    "        H_prev = H.copy()\n",
    "        H = solve_H(adj_matrix,P,B,r,cluster=n_cluster,optimal=optimal,ld=ld)#np.linalg.solve((laplacianMatrix+laplacianMatrix.T)+r*np.identity(n=row),r*(P-B))\n",
    "\n",
    "        new_adj_matrix = solve_A(H,A_c,ld=1)\n",
    "        new_adj_matrix = 0.5*(new_adj_matrix+new_adj_matrix)\n",
    "        \n",
    "        changed[0,i] =np.sum(new_adj_matrix==adj_matrix)\n",
    "        val = np.linalg.norm(new_adj_matrix-adj_matrix)\n",
    "\n",
    "        changed[1,i] = val\n",
    "        \n",
    "#         interested_indices = np.where(adj_matrix>0)\n",
    "#         adj_matrix[interested_indices] = new_adj_matrix[interested_indices]\n",
    "        y_k = H + B\n",
    "        u, d, v = np.linalg.svd(y_k, full_matrices=True)\n",
    "        P = u.dot(np.eye(N=u.shape[1], M=v.shape[0])).dot(v)\n",
    "        err = np.linalg.norm(H-H_prev)\n",
    "        B = B + H - P\n",
    "#         if err<0.000005:\n",
    "#             print 'threshold meets %f at iteration %d'%(err,i)\n",
    "#             break\n",
    "        adj_matrix = new_adj_matrix\n",
    "    print 'H norm difference %f at iteration %d'%(np.linalg.norm(H.dot(H.T)-np.identity(H.shape[0])),i)\n",
    "    \n",
    "    kmeans = KMeans(n_cluster)\n",
    "    pred = kmeans.fit_predict(normalize(H))\n",
    "    emb  = normalize(H)\n",
    "    return emb,pred,energies,changed"
   ]
  },
  {
   "cell_type": "code",
   "execution_count": 3,
   "metadata": {
    "collapsed": true
   },
   "outputs": [],
   "source": [
    "#Create dataset\n",
    "NOISE = 0.1\n",
    "N_SAMPLE = 100\n",
    "data_x, data_y =make_moons(n_samples=N_SAMPLE)\n",
    "data_x_noisy , data_y_noisy  =make_moons(n_samples=N_SAMPLE,noise=NOISE)"
   ]
  },
  {
   "cell_type": "code",
   "execution_count": 32,
   "metadata": {
    "collapsed": false
   },
   "outputs": [
    {
     "name": "stdout",
     "output_type": "stream",
     "text": [
      "H norm difference 9.999890 at iteration 99\n",
      "0.46\n"
     ]
    }
   ],
   "source": [
    "#No Noise\n",
    "\n",
    "ITERATION = 100\n",
    "NEIGHBOR = 5\n",
    "ld=0.1\n",
    "emb,pred,energies,changed = bregman_fit(data_x=data_x,n_neighbors=NEIGHBOR,n_cluster=2,iteration=ITERATION\n",
    "                                        ,ld=ld,r=ld/1e3)\n",
    "fig,ax = plt.subplots(nrows=6,ncols=1)\n",
    "fig.set_size_inches(14.5, 12.5)\n",
    "ax[3].set_title('energy')\n",
    "ax[3].plot(range(ITERATION),energies[0,:]/energies[0,:].max())\n",
    "ax[0].set_title('Prediction')\n",
    "ax[0].scatter(data_x[:,0],data_x[:,1],c=pred)\n",
    "ax[1].set_title('embedding_predicted labeling')\n",
    "ax[1].scatter(emb[:,0],emb[:,1],c=pred)\n",
    "ax[2].set_title('embedding_true labeling')\n",
    "ax[2].scatter(emb[:, 0], emb[:, 1], c=data_y)\n",
    "ax[4].plot(range(ITERATION),changed[0,:],label = 'changed')\n",
    "ax[5].plot(range(ITERATION),changed[1,:],label = 'norm')\n",
    "ax[4].legend()\n",
    "ax[5].legend()\n",
    "print np.mean(pred!=data_y),\n",
    "plt.show()"
   ]
  },
  {
   "cell_type": "code",
   "execution_count": 26,
   "metadata": {
    "collapsed": false
   },
   "outputs": [
    {
     "name": "stdout",
     "output_type": "stream",
     "text": [
      "threshold meets 0.000002 at iteration 266\n",
      "H norm difference 9.949874 at iteration 266\n",
      "0.89\n"
     ]
    }
   ],
   "source": [
    "# Noise\n",
    "\n",
    "ITERATION = 1000\n",
    "NEIGHBOR = 10\n",
    "R = 1e-8\n",
    "dev =0\n",
    "ld_noise = 1\n",
    "base=1e5\n",
    "# R=ld_noise/base\n",
    "\n",
    "emb,pred,energies,changed = bregman_fit(data_x=data_x_noisy,n_neighbors=NEIGHBOR,n_cluster=2,iteration=ITERATION,\n",
    "                                        r=R)\n",
    "fig,ax = plt.subplots(nrows=6,ncols=1)\n",
    "fig.set_size_inches(14.5, 12.5)\n",
    "ax[3].set_title('energy')\n",
    "ax[3].plot(range(ITERATION),energies[0,:]/energies[0,:].max())\n",
    "ax[0].set_title('Prediction')\n",
    "ax[0].scatter(data_x_noisy[:,0],data_x_noisy[:,1],c=pred)\n",
    "ax[1].set_title('embedding_predicted labeling')\n",
    "ax[1].scatter(emb[:,0],emb[:,1],c=pred)\n",
    "ax[1].set_ylim([emb[:,1].min()-dev,emb[:,1].max()+dev])\n",
    "ax[1].set_xlim([emb[:,0].min()-dev,emb[:,0].max()+dev])\n",
    "\n",
    "ax[2].set_title('embedding_true labeling')\n",
    "ax[2].scatter(emb[:, 0], emb[:, 1], c=data_y)\n",
    "ax[2].set_ylim([emb[:,1].min()-dev,emb[:,1].max()+dev])\n",
    "ax[2].set_xlim([emb[:,0].min()-dev,emb[:,0].max()+dev])\n",
    "ax[4].plot(range(ITERATION),changed[0,:],label = 'changed')\n",
    "ax[5].plot(range(ITERATION),changed[1,:],label = 'norm')\n",
    "ax[4].legend()\n",
    "ax[5].legend()\n",
    "print np.mean(pred!=data_y_noisy)\n",
    "plt.show()"
   ]
  },
  {
   "cell_type": "code",
   "execution_count": 31,
   "metadata": {
    "collapsed": false
   },
   "outputs": [
    {
     "name": "stdout",
     "output_type": "stream",
     "text": [
      "H norm difference 9.899495 at iteration 999\n",
      "0.64\n"
     ]
    }
   ],
   "source": [
    "# Noise with eigen\n",
    "\n",
    "ITERATION = 1000\n",
    "NEIGHBOR = 5\n",
    "R = 0.00000001\n",
    "dev =0\n",
    "\n",
    "emb,pred,energies,changed = bregman_fit(data_x=data_x,n_neighbors=NEIGHBOR,n_cluster=2,\n",
    "                                        optimal=True,iteration=ITERATION,r=R)\n",
    "fig,ax = plt.subplots(nrows=6,ncols=1)\n",
    "fig.set_size_inches(14.5, 12.5)\n",
    "ax[3].set_title('energy')\n",
    "ax[3].plot(range(ITERATION),energies[0,:]/energies[0,:].max())\n",
    "ax[0].set_title('Prediction')\n",
    "ax[0].scatter(data_x[:,0],data_x[:,1],c=pred)\n",
    "ax[1].set_title('embedding_predicted labeling')\n",
    "ax[1].scatter(emb[:,0],emb[:,1],c=pred)\n",
    "ax[1].set_ylim([emb[:,1].min()-dev,emb[:,1].max()+dev])\n",
    "ax[1].set_xlim([emb[:,0].min()-dev,emb[:,0].max()+dev])\n",
    "\n",
    "ax[2].set_title('embedding_true labeling')\n",
    "ax[2].scatter(emb[:, 0], emb[:, 1], c=data_y)\n",
    "ax[2].set_ylim([emb[:,1].min()-dev,emb[:,1].max()+dev])\n",
    "ax[2].set_xlim([emb[:,0].min()-dev,emb[:,0].max()+dev])\n",
    "ax[4].plot(range(ITERATION),changed[0,:],label = 'changed')\n",
    "ax[5].plot(range(ITERATION),changed[1,:],label = 'norm')\n",
    "ax[4].legend()\n",
    "ax[5].legend()\n",
    "print np.mean(pred!=data_y)\n",
    "plt.show()"
   ]
  },
  {
   "cell_type": "code",
   "execution_count": null,
   "metadata": {
    "collapsed": true
   },
   "outputs": [],
   "source": []
  }
 ],
 "metadata": {
  "kernelspec": {
   "display_name": "Python [Root]",
   "language": "python",
   "name": "Python [Root]"
  },
  "language_info": {
   "codemirror_mode": {
    "name": "ipython",
    "version": 2
   },
   "file_extension": ".py",
   "mimetype": "text/x-python",
   "name": "python",
   "nbconvert_exporter": "python",
   "pygments_lexer": "ipython2",
   "version": "2.7.12"
  }
 },
 "nbformat": 4,
 "nbformat_minor": 0
}
