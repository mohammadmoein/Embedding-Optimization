{
 "cells": [
  {
   "cell_type": "markdown",
   "metadata": {},
   "source": [
    "We would like to minimize following optimization using splitting.\n",
    "$$min_{H \\in R^{n \\times p}} Tr(H^TH)$$\n",
    "$$s.t. H^T H  = I$$"
   ]
  },
  {
   "cell_type": "markdown",
   "metadata": {},
   "source": [
    "The SOC method works as such. <img src='main.png'>"
   ]
  },
  {
   "cell_type": "markdown",
   "metadata": {},
   "source": [
    "After splitting so, the first subproblem is a convex optimization problem, then easy to solve. Second one will be solved with respect to following remark mentioned in the paper. <img src='alg1.png'>"
   ]
  },
  {
   "cell_type": "markdown",
   "metadata": {},
   "source": [
    "So, these are the steps need to be done. <br />\n",
    "<img src='alg2.png'>"
   ]
  },
  {
   "cell_type": "markdown",
   "metadata": {},
   "source": [
    "It is obvious the optimal solution of our toy problem is m, the number of columns of H. Let's implement this algorithm and see how it does. I  our problem $L$ is $I$ and the subproblems are:\n",
    "$$ H^k = argmin_{H} Tr(H^TH)+\\frac{r}{2}\\|H-P^{k-1}+B^{k-1}\\|_{F}^2 $$\n",
    "$$ P^k = argmin_{p} \\frac{r}{2} \\|P-(H^k+B^{k-1})\\|_{F}^2  \\quad s.t \\quad   P^TP=I$$\n"
   ]
  },
  {
   "cell_type": "markdown",
   "metadata": {},
   "source": [
    "The first problem has an analytical solution, easily computed by taking derivative as follows.\n",
    "$$2H+\\frac{r}{2}(2H-2(P^{k-1}-B^{k-1}))$$\n",
    "$$H = \\frac{r}{(2+r)} (P^{k-1}-B^{k-1})$$"
   ]
  },
  {
   "cell_type": "code",
   "execution_count": 1,
   "metadata": {
    "collapsed": true
   },
   "outputs": [],
   "source": [
    "#\n",
    "import numpy as np\n",
    "from scipy.optimize import minimize\n",
    "%matplotlib inline"
   ]
  },
  {
   "cell_type": "code",
   "execution_count": 50,
   "metadata": {
    "collapsed": false
   },
   "outputs": [
    {
     "name": "stdout",
     "output_type": "stream",
     "text": [
      "Is an orthogonal constraint statisifed? Is the printed matrix equal to I? \n",
      "\n",
      "0.0\n",
      "objective is  2.00000000535 True\n",
      "1.44377454883\n",
      "-7.18757149748 -7.18754027322\n"
     ]
    }
   ],
   "source": [
    "iter = 1000\n",
    "dimension = 10 # assume H is 3*3 so the optimal value should be 3\n",
    "\n",
    "#initialization based on the sketch of algorithm\n",
    "H =np.arange(dimension**2).reshape((dimension,dimension)) #This is just initial value of H\n",
    "H = np.random.randn(dimension,2)\n",
    "P =H \n",
    "B =np.zeros(shape=(dimension,2))\n",
    "r=300\n",
    "L  = np.random.randn(dimension,dimension)\n",
    "L =0.5*( L.T+L)\n",
    "\n",
    "for i in range(iter):\n",
    "#     H = (P-B)*(r/(2.0+r))\n",
    "    H = np.linalg.solve(2*L+r*np.identity(dimension),r*(P-B))\n",
    "    y_k = H+B\n",
    "    u,d,v = np.linalg.svd(y_k,full_matrices=True)\n",
    "    \n",
    "    P=u.dot(np.eye(N=u.shape[1],M=v.shape[0])).dot(v)\n",
    "    if  not np.allclose(np.dot(P.T,P), np.identity(n=P.T.shape[0])):\n",
    "        print \"Constrained subproblem failed\"\n",
    "        break\n",
    "\n",
    "    B = B+H-P\n",
    "\n",
    "print \"Is an orthogonal constraint statisifed? Is the printed matrix equal to I?\",'\\n'\n",
    "print np.round(np.linalg.norm(H.T.dot(H)-np.identity(H.shape[1])))\n",
    "print \"objective is \",np.trace(H.T.dot(H)) ,np.allclose(np.trace(H.T.dot(H)),H.T.shape[0])\n",
    "from scipy.linalg import eigh\n",
    "lambads,vec = eigh(L,eigvals=(0,1))\n",
    "# vec = vec[:,:2]\n",
    "print np.linalg.norm(vec-H)\n",
    "print np.trace(vec.T.dot(L).dot(vec)),np.trace(H.T.dot(L).dot(H))"
   ]
  },
  {
   "cell_type": "code",
   "execution_count": 48,
   "metadata": {
    "collapsed": false
   },
   "outputs": [
    {
     "name": "stdout",
     "output_type": "stream",
     "text": [
      "2.0\n",
      "-26.3345617131\n"
     ]
    }
   ],
   "source": [
    "\n",
    "l,emb = eigh(L,eigvals=(0,1))\n",
    "print np.linalg.norm(emb-vec)\n",
    "print np.trace(emb.T.dot(L).dot(emb))"
   ]
  },
  {
   "cell_type": "markdown",
   "metadata": {},
   "source": [
    "we also can solve the first problem numerically by the tools in the scipy.optimize library."
   ]
  },
  {
   "cell_type": "code",
   "execution_count": 3,
   "metadata": {
    "collapsed": true
   },
   "outputs": [],
   "source": [
    "def objective(H,P,B):\n",
    "    \n",
    "    H=H.reshape(dimension,dimension)\n",
    "    y=B-P\n",
    "    return np.trace(H.T.dot(H))+np.trace((H-y).T.dot(H-y))"
   ]
  },
  {
   "cell_type": "code",
   "execution_count": 4,
   "metadata": {
    "collapsed": false
   },
   "outputs": [
    {
     "name": "stdout",
     "output_type": "stream",
     "text": [
      "Is orthogonal constraint statisifed? Is printed matrix equal to I? \n",
      "\n",
      "[[  1076827001666225  20419611352248708  12023368862915824]\n",
      " [ 20419611352248708 548014470658839168 316070317908737600]\n",
      " [ 12023368862915824 316070317908737600 182496358854426368]]\n"
     ]
    }
   ],
   "source": [
    "H =np.arange(dimension**2).reshape((dimension,dimension)) #This is just initial value of H\n",
    "P =H \n",
    "B =np.zeros(shape=(dimension,dimension))\n",
    "r=2\n",
    "\n",
    "for i in range(iter):\n",
    "    H =  minimize(fun=objective,x0=H.flatten(),method='CG',args=(P,B)).x.reshape(dimension,dimension)\n",
    "    y_k = H+B\n",
    "    u,d,v = np.linalg.svd(y_k,full_matrices=True)\n",
    "    P=u.dot(np.eye(N=u.shape[1],M=v.shape[0])).dot(v)\n",
    "    if not np.allclose(np.dot(P.T,P), np.identity(n=P.T.shape[0])):\n",
    "        print \"Constrained subproblem failed\"\n",
    "        break\n",
    "\n",
    "    B = B+H-P\n",
    "\n",
    "print \"Is orthogonal constraint statisifed? Is printed matrix equal to I?\",'\\n'\n",
    "print ((H.T.dot(H).astype(int)))"
   ]
  },
  {
   "cell_type": "code",
   "execution_count": 27,
   "metadata": {
    "collapsed": false
   },
   "outputs": [
    {
     "data": {
      "text/plain": [
       "0.25"
      ]
     },
     "execution_count": 27,
     "metadata": {},
     "output_type": "execute_result"
    }
   ],
   "source": [
    "(r*0.5/(2+r))"
   ]
  },
  {
   "cell_type": "code",
   "execution_count": null,
   "metadata": {
    "collapsed": true
   },
   "outputs": [],
   "source": []
  }
 ],
 "metadata": {
  "kernelspec": {
   "display_name": "Python [Root]",
   "language": "python",
   "name": "Python [Root]"
  },
  "language_info": {
   "codemirror_mode": {
    "name": "ipython",
    "version": 2
   },
   "file_extension": ".py",
   "mimetype": "text/x-python",
   "name": "python",
   "nbconvert_exporter": "python",
   "pygments_lexer": "ipython2",
   "version": "2.7.12"
  }
 },
 "nbformat": 4,
 "nbformat_minor": 0
}
