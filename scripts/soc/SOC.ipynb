{
 "cells": [
  {
   "cell_type": "code",
   "execution_count": 1,
   "metadata": {
    "collapsed": false
   },
   "outputs": [],
   "source": [
    "import numpy as np\n",
    "import matplotlib.pylab as plt\n",
    "%matplotlib inline"
   ]
  },
  {
   "cell_type": "code",
   "execution_count": 2,
   "metadata": {
    "collapsed": false
   },
   "outputs": [],
   "source": [
    "def objective(X):\n",
    "    return np.trace(X.T.dot(X))\n",
    "def gradient_objective(X):\n",
    "    return 2*X"
   ]
  },
  {
   "cell_type": "code",
   "execution_count": 10,
   "metadata": {
    "collapsed": false
   },
   "outputs": [
    {
     "name": "stdout",
     "output_type": "stream",
     "text": [
      "[[1 0 0]\n",
      " [0 1 0]\n",
      " [0 0 1]]\n"
     ]
    }
   ],
   "source": [
    "#Bregman Optimization\n",
    "iter = 1000\n",
    "dimension = 3\n",
    "initial =np.arange(dimension**2).reshape((dimension,dimension))\n",
    "B =np.zeros(shape=(dimension,dimension))\n",
    "p =initial\n",
    "\n",
    "for i in range(iter):\n",
    "    initial = (p-B)/2.0\n",
    "    y_k = initial+B\n",
    "    u,d,v = np.linalg.svd(y_k.T,full_matrices=True)\n",
    "    p=u.dot(np.eye(N=u.shape[1],M=v.shape[0])).dot(v)\n",
    "    if not np.allclose(np.dot(p.T,p), np.identity(n=p.T.shape[0])):\n",
    "        print \"COnstrained optimization failed\"\n",
    "        break\n",
    "#     print p\n",
    "    B = B+initial-p\n",
    "\n",
    "print (initial.T.dot(initial).astype(int))"
   ]
  },
  {
   "cell_type": "code",
   "execution_count": 4,
   "metadata": {
    "collapsed": false
   },
   "outputs": [
    {
     "name": "stdout",
     "output_type": "stream",
     "text": [
      "[[  644.68506048  1000.33333333  1354.98160619]\n",
      " [ 3000.33333334  3741.39264248  4484.45195162]\n",
      " [ 5354.98160618  6484.45195162  7612.92229705]]\n",
      "[[  644.68506048  1000.33333333  1354.98160619]\n",
      " [ 3000.33333334  3741.39264248  4484.45195162]\n",
      " [ 5354.98160618  6484.45195162  7612.92229705]]\n"
     ]
    }
   ],
   "source": [
    "print y_k \n",
    "u,d,v = np.linalg.svd(y_k,full_matrices=True)\n",
    "print u.dot(np.diag(d)).dot(v)"
   ]
  },
  {
   "cell_type": "code",
   "execution_count": 5,
   "metadata": {
    "collapsed": false
   },
   "outputs": [
    {
     "name": "stdout",
     "output_type": "stream",
     "text": [
      "(3, 3)\n",
      "True\n"
     ]
    }
   ],
   "source": [
    "from scipy import linalg\n",
    "y=np.arange(12).reshape(4,3)\n",
    "u,d,v = np.linalg.svd(y,full_matrices=False)\n",
    "print v.shape\n",
    "p=u.dot(np.eye(N=u.shape[1],M=v.shape[0])).dot(v)\n",
    "\n",
    "\n",
    "print np.allclose(np.dot(p.T,p), np.identity(n=p.T.shape[0]))"
   ]
  },
  {
   "cell_type": "code",
   "execution_count": null,
   "metadata": {
    "collapsed": false
   },
   "outputs": [],
   "source": [
    "y=np.arange(12).reshape(4,3)\n",
    "def objective(X):\n",
    "    X=X.reshape(4,3)\n",
    "    return np.trace(X.T.dot(X))+np.trace((X-y).T.dot(X-y))\n",
    "def derivative_analytic(X):\n",
    "    X=X.reshape(4,3)\n",
    "    \n",
    "    return ( 4*X-2*y).flatten()\n",
    "\n",
    "from scipy.misc import derivative\n",
    "times = 100\n",
    "numeric_gradient=[]\n",
    "analytic_gradient=[]\n",
    "grad=[]\n",
    "for i in range(times):\n",
    "    tmp=np.random.rand(12)\n",
    "    res=derivative(objective,tmp)\n",
    "    \n",
    "    grad.append(np.linalg.norm(res-derivative_analytic(tmp)))\n",
    "                            \n",
    "plt.plot(grad,label='diffgrad')\n",
    "plt.legend()\n",
    "\n",
    "from scipy.optimize import minimize\n",
    "q0= y/4.0\n",
    "\n",
    "iter=0\n",
    "while True:\n",
    "    q1= minimize(fun=objective,x0=np.random.rand(3*4),method='CG',jac=derivative_analytic).x\n",
    "    q2= minimize(fun=objective,x0=np.random.rand(3*4),method='CG').x\n",
    "    if  np.allclose(objective(q1),objective(q0)):\n",
    "        print 'closed form','\\n',q0.reshape(3,4),'\\n'\n",
    "        \n",
    "        print 'Using analytical derivative','\\n',q1.reshape(3,4),'\\n'\n",
    "        print 'Numerical','\\n',q2.reshape(3,4),'\\n'\n",
    "        print objective(q) \n",
    "        print objective(q1)\n",
    "        print objective(q2)\n",
    "\n",
    "        break;"
   ]
  },
  {
   "cell_type": "code",
   "execution_count": null,
   "metadata": {
    "collapsed": false
   },
   "outputs": [],
   "source": [
    ""
   ]
  },
  {
   "cell_type": "code",
   "execution_count": 8,
   "metadata": {
    "collapsed": false
   },
   "outputs": [
    {
     "name": "stdout",
     "output_type": "stream",
     "text": [
      "[[859927983529972864  21551185877235588  14116410738997902]\n",
      " [ 21551185877235588   4305017314023172   4619475238468281]\n",
      " [ 14116410738997902   4619475238468281   8364614950365170]]\n"
     ]
    }
   ],
   "source": [
    "from scipy.optimize import minimize\n",
    "dimension = 3\n",
    "initial =np.arange(dimension**2).reshape((dimension,dimension))\n",
    "B =np.zeros(shape=(dimension,dimension))\n",
    "p =initial\n",
    "\n",
    "def objective2(X,y):\n",
    "    X=X.reshape(dimension,dimension)\n",
    "    \n",
    "    return np.trace(X.T.dot(X))+np.trace((X-y).T.dot(X-y))\n",
    "def objective2_grad(X,y):\n",
    "    X=X.reshape(dimension,dimension)\n",
    "    return ( 4*X-2*y).flatten()\n",
    "    \n",
    "iter =1000\n",
    "for ind in range(iter):\n",
    "    #initial = (B-p)/4.0\n",
    "    initial= minimize(fun=objective2,x0=initial,method='CG',args=(B-p)).x.reshape(dimension,dimension)\n",
    "#     print  np.allclose(objective(q.x),objective(q1))\n",
    "    y_k = initial+B\n",
    "    u,d,v = np.linalg.svd(y_k.T,full_matrices=True)\n",
    "    p=u.dot(np.eye(N=u.shape[1],M=v.shape[0])).dot(v)\n",
    "    if not np.allclose(p.T.dot(p),np.identity(p.shape[1])):\n",
    "                       print 'asghar'\n",
    "    if not np.allclose(np.dot(p.T,p), np.identity(n=p.T.shape[0])):\n",
    "        print \"Constrained optimization failed\"\n",
    "        break\n",
    "#     print p\n",
    "    B = B+initial-p\n",
    "\n",
    "print (initial.T.dot(initial).astype(int))"
   ]
  },
  {
   "cell_type": "code",
   "execution_count": 275,
   "metadata": {
    "collapsed": false
   },
   "outputs": [
    {
     "data": {
      "text/plain": [
       "array([ 0.21015905,  0.46283729,  0.42733062,  0.73396545,  0.24949484,\n",
       "        0.07823205,  0.17451367,  0.96115526,  0.80865103,  0.68216103,\n",
       "        0.43624442,  0.60937541])"
      ]
     },
     "execution_count": 275,
     "metadata": {},
     "output_type": "execute_result"
    }
   ],
   "source": [
    "np.random.rand(12)"
   ]
  },
  {
   "cell_type": "code",
   "execution_count": 276,
   "metadata": {
    "collapsed": false
   },
   "outputs": [
    {
     "data": {
      "text/plain": [
       "(10.267122366795929, 10.267122366795927)"
      ]
     },
     "execution_count": 276,
     "metadata": {},
     "output_type": "execute_result"
    }
   ],
   "source": [
    "np.linalg.norm(y)**2,np.trace(y.T.dot(y))"
   ]
  },
  {
   "cell_type": "code",
   "execution_count": 24,
   "metadata": {
    "collapsed": false
   },
   "outputs": [
    {
     "name": "stdout",
     "output_type": "stream",
     "text": [
      "Is an orthogonal constraint statisifed? Is the printed matrix equal to I? \n",
      "\n",
      "[[ 1.  0.  0.]\n",
      " [ 0.  1.  0.]\n",
      " [ 0.  0.  1.]]\n",
      "objective is  3.0 True\n"
     ]
    }
   ],
   "source": [
    "import numpy as np\n",
    "iter = 100\n",
    "dimension = 3 # assume H is 3*3 so the optimal value should be 3\n",
    "\n",
    "#initialization based on the sketch of algorithm\n",
    "H =np.arange(dimension**2).reshape((dimension,dimension)) #This is just initial value of H\n",
    "H = np.random.randn(dimension,dimension)\n",
    "P =H \n",
    "B =np.zeros(shape=(dimension,dimension))\n",
    "r=2\n",
    "\n",
    "\n",
    "for i in range(iter):\n",
    "    H = (P-B)*(r/(2.0+r))\n",
    "    y_k = H+B\n",
    "    u,d,v = np.linalg.svd(y_k,full_matrices=True)\n",
    "    \n",
    "    P=u.dot(np.eye(N=u.shape[1],M=v.shape[0])).dot(v)\n",
    "    if  not np.allclose(np.dot(P.T,P), np.identity(n=P.T.shape[0])):\n",
    "        print \"Constrained subproblem failed\"\n",
    "        break\n",
    "\n",
    "    B = B+H-P\n",
    "\n",
    "print \"Is an orthogonal constraint statisifed? Is the printed matrix equal to I?\",'\\n'\n",
    "print (H.T.dot(H))\n",
    "print \"objective is \",np.trace(H.T.dot(H)) ,np.trace(H.T.dot(H))==H.T.shape[0]"
   ]
  },
  {
   "cell_type": "code",
   "execution_count": null,
   "metadata": {
    "collapsed": true
   },
   "outputs": [],
   "source": [
    ""
   ]
  },
  {
   "cell_type": "code",
   "execution_count": null,
   "metadata": {
    "collapsed": true
   },
   "outputs": [],
   "source": [
    ""
   ]
  }
 ],
 "metadata": {
  "kernelspec": {
   "display_name": "Python [Root]",
   "language": "python",
   "name": "Python [Root]"
  },
  "language_info": {
   "codemirror_mode": {
    "name": "ipython",
    "version": 2.0
   },
   "file_extension": ".py",
   "mimetype": "text/x-python",
   "name": "python",
   "nbconvert_exporter": "python",
   "pygments_lexer": "ipython2",
   "version": "2.7.12"
  }
 },
 "nbformat": 4,
 "nbformat_minor": 0
}