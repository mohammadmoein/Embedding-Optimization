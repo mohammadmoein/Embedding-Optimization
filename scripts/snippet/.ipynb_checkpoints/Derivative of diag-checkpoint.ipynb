{
 "cells": [
  {
   "cell_type": "code",
   "execution_count": 63,
   "metadata": {
    "collapsed": true
   },
   "outputs": [],
   "source": [
    "import numpy as np\n",
    "import matplotlib.pyplot as plt\n",
    "from sklearn.datasets import make_moons\n",
    "%matplotlib inline"
   ]
  },
  {
   "cell_type": "code",
   "execution_count": 101,
   "metadata": {
    "collapsed": true
   },
   "outputs": [],
   "source": []
  },
  {
   "cell_type": "code",
   "execution_count": 102,
   "metadata": {
    "collapsed": false
   },
   "outputs": [],
   "source": [
    "def f(A):\n",
    "    tmp = np.diag(A.dot(np.ones((A.shape[0],1))).flatten())\n",
    "    return np.trace(H.T.dot(tmp).dot(H))"
   ]
  },
  {
   "cell_type": "code",
   "execution_count": 166,
   "metadata": {
    "collapsed": true
   },
   "outputs": [],
   "source": [
    "def G(A,B):\n",
    "    tmp = np.diag(A.dot(np.ones((A.shape[0],1))).flatten())\n",
    "    return np.trace(H.T.dot(tmp).dot(H))+np.trace((A-B).T.dot(A-B))"
   ]
  },
  {
   "cell_type": "code",
   "execution_count": 167,
   "metadata": {
    "collapsed": true
   },
   "outputs": [],
   "source": [
    "def frob(A,B):\n",
    "    return np.trace((A-B).T.dot(A-B))"
   ]
  },
  {
   "cell_type": "code",
   "execution_count": 180,
   "metadata": {
    "collapsed": false
   },
   "outputs": [
    {
     "name": "stdout",
     "output_type": "stream",
     "text": [
      "[[ -73.30037304  -72.77327867  -73.30037304  -72.8274674   -72.8274674 ]\n",
      " [-252.00451338 -252.00451338 -252.53160775 -253.00451338 -253.00451338]\n",
      " [-432.18155936 -432.18155936 -432.18155936 -432.2357481  -432.18155936]\n",
      " [-612.41279408 -611.41279408 -611.93988844 -611.93988844 -611.41279408]\n",
      " [-792.11693442 -791.11693442 -791.11693442 -791.11693442 -792.11693442]]\n",
      "\n",
      "[[ -155.  -155.  -155.  -154.  -154.]\n",
      " [ -534.  -534.  -534.  -535.  -535.]\n",
      " [ -915.  -915.  -915.  -914.  -915.]\n",
      " [-1295. -1294. -1294. -1294. -1294.]\n",
      " [-1675. -1674. -1674. -1674. -1675.]]\n",
      "-1772457.47613 11081773.0\n"
     ]
    },
    {
     "data": {
      "image/png": "[encoded data removed]",
      "text/plain": [
       "<matplotlib.figure.Figure at 0x7f2db6f7bd10>"
      ]
     },
     "metadata": {},
     "output_type": "display_data"
    }
   ],
   "source": [
    "\n",
    "# min trace(H.Tdiag(A1).H)+Trace(A-Ac)\n",
    "dimension =5\n",
    "d2=4\n",
    "H=np.arange(dimension*4).reshape(dimension,d2)\n",
    "a = np.random.randint(0,2,dimension**2).reshape(dimension,dimension)\n",
    "# a=np.array([[ -56.86704718,  -55.86937968,  -55.86704718],\n",
    "#        [-187.56148893, -187.55915643, -188.55915643],\n",
    "#        [-319.25359819, -319.25359819, -319.25359819]])\n",
    "ac = np.random.randint(0,2,dimension**2).reshape(dimension,dimension)\n",
    "plt.plot(G(a,ac))\n",
    "iter=200\n",
    "cof=0.1\n",
    "grad1 =np.tile((H.dot(H.T)).sum(axis=0).reshape(-1,1),(1,a.shape[1]))\n",
    "\n",
    "for i in range(iter):\n",
    "    grad=grad1+2*a-2*ac\n",
    "#     if i==300:\n",
    "#         q=a\n",
    "    \n",
    "    \n",
    "    \n",
    "    a = a-cof*grad\n",
    "    cof/=1.5\n",
    "#     print a.shape\n",
    "#     plt.scatter(i,f(a))\n",
    "    plt.scatter(i,G(a,ac))\n",
    "\n",
    "print a\n",
    "print \n",
    "qq =  ac-grad1*0.5\n",
    "print qq\n",
    "print G(a,ac),G(qq,ac)\n",
    "plt.show()\n"
   ]
  },
  {
   "cell_type": "code",
   "execution_count": 58,
   "metadata": {
    "collapsed": false
   },
   "outputs": [
    {
     "data": {
      "text/plain": [
       "array([[-113397.,       0.,       0.],\n",
       "       [      0., -113400.,       0.],\n",
       "       [      0.,       0., -113399.]])"
      ]
     },
     "execution_count": 58,
     "metadata": {},
     "output_type": "execute_result"
    }
   ],
   "source": [
    "A=a\n",
    "np.diag(A.dot(np.ones((A.shape[0],1))).flatten())"
   ]
  },
  {
   "cell_type": "code",
   "execution_count": 85,
   "metadata": {
    "collapsed": false
   },
   "outputs": [
    {
     "data": {
      "text/plain": [
       "array([[ 14,  38,  62],\n",
       "       [ 38, 126, 214],\n",
       "       [ 62, 214, 366]])"
      ]
     },
     "execution_count": 85,
     "metadata": {},
     "output_type": "execute_result"
    }
   ],
   "source": [
    "(H.dot(H.T))"
   ]
  },
  {
   "cell_type": "code",
   "execution_count": 87,
   "metadata": {
    "collapsed": false
   },
   "outputs": [
    {
     "data": {
      "text/plain": [
       "array([114, 378, 642])"
      ]
     },
     "execution_count": 87,
     "metadata": {},
     "output_type": "execute_result"
    }
   ],
   "source": [
    "(H.dot(H.T)).sum(axis=0)"
   ]
  },
  {
   "cell_type": "code",
   "execution_count": 148,
   "metadata": {
    "collapsed": false
   },
   "outputs": [
    {
     "data": {
      "text/plain": [
       "array([[ -56.86704718,  -55.86937968,  -55.86704718],\n",
       "       [-187.56148893, -187.55915643, -188.55915643],\n",
       "       [-319.25359819, -319.25359819, -319.25359819]])"
      ]
     },
     "execution_count": 148,
     "metadata": {},
     "output_type": "execute_result"
    }
   ],
   "source": [
    "q"
   ]
  },
  {
   "cell_type": "code",
   "execution_count": 119,
   "metadata": {
    "collapsed": false
   },
   "outputs": [
    {
     "name": "stdout",
     "output_type": "stream",
     "text": [
      "1002.0 1014.0\n"
     ]
    }
   ],
   "source": [
    "print G(a,ac),f(a)+np.trace((a-ac).T.dot(a-ac))**2"
   ]
  },
  {
   "cell_type": "code",
   "execution_count": 140,
   "metadata": {
    "collapsed": false
   },
   "outputs": [
    {
     "name": "stdout",
     "output_type": "stream",
     "text": [
      "[[ 2282  2282  2282]\n",
      " [ 7562  7561  7559]\n",
      " [12841 12842 12839]]\n",
      "436266551.68\n",
      "279210593.075\n",
      "178694779.568\n",
      "114364658.924\n",
      "73193381.7111\n",
      "46843764.2951\n",
      "29980009.1489\n",
      "19187205.8553\n",
      "12279811.7474\n",
      "7859079.51832\n"
     ]
    },
    {
     "data": {
      "image/png": "[encoded data removed]",
      "text/plain": [
       "<matplotlib.figure.Figure at 0x7f2dd7b2e7d0>"
      ]
     },
     "metadata": {},
     "output_type": "display_data"
    }
   ],
   "source": [
    "print a\n",
    "for i in range(10):\n",
    "    grad = 2*a-2*ac\n",
    "\n",
    "    a= a-0.1*grad\n",
    "    #a= -a+2*ac\n",
    "    print frob(a,ac)\n",
    "    plt.scatter(i,frob(a,ac))\n",
    "plt.show()"
   ]
  },
  {
   "cell_type": "code",
   "execution_count": 137,
   "metadata": {
    "collapsed": false
   },
   "outputs": [
    {
     "data": {
      "text/plain": [
       "681666487"
      ]
     },
     "execution_count": 137,
     "metadata": {},
     "output_type": "execute_result"
    }
   ],
   "source": [
    "frob(a,ac)"
   ]
  },
  {
   "cell_type": "code",
   "execution_count": 139,
   "metadata": {
    "collapsed": false
   },
   "outputs": [
    {
     "data": {
      "text/plain": [
       "681666487"
      ]
     },
     "execution_count": 139,
     "metadata": {},
     "output_type": "execute_result"
    }
   ],
   "source": [
    "frob(-a+2*ac,ac)"
   ]
  },
  {
   "cell_type": "code",
   "execution_count": null,
   "metadata": {
    "collapsed": true
   },
   "outputs": [],
   "source": []
  }
 ],
 "metadata": {
  "kernelspec": {
   "display_name": "Python [Root]",
   "language": "python",
   "name": "Python [Root]"
  },
  "language_info": {
   "codemirror_mode": {
    "name": "ipython",
    "version": 2
   },
   "file_extension": ".py",
   "mimetype": "text/x-python",
   "name": "python",
   "nbconvert_exporter": "python",
   "pygments_lexer": "ipython2",
   "version": "2.7.12"
  }
 },
 "nbformat": 4,
 "nbformat_minor": 0
}
