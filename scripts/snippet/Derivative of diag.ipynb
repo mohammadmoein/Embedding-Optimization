{
 "cells": [
  {
   "cell_type": "code",
   "execution_count": 188,
   "metadata": {
    "collapsed": true
   },
   "outputs": [],
   "source": [
    "import numpy as np\n",
    "import matplotlib.pyplot as plt\n",
    "from sklearn.datasets import make_moons\n",
    "import seaborn as sns\n",
    "import scipy.sparse as sp\n",
    "from scipy.sparse.csgraph import laplacian\n",
    "from sklearn.neighbors import kneighbors_graph\n",
    "%matplotlib inline"
   ]
  },
  {
   "cell_type": "code",
   "execution_count": 101,
   "metadata": {
    "collapsed": true
   },
   "outputs": [],
   "source": []
  },
  {
   "cell_type": "code",
   "execution_count": 102,
   "metadata": {
    "collapsed": false
   },
   "outputs": [],
   "source": [
    "def f(A):\n",
    "    tmp = np.diag(A.dot(np.ones((A.shape[0],1))).flatten())\n",
    "    return np.trace(H.T.dot(tmp).dot(H))"
   ]
  },
  {
   "cell_type": "code",
   "execution_count": 166,
   "metadata": {
    "collapsed": true
   },
   "outputs": [],
   "source": [
    "def G(A,B):\n",
    "    tmp = np.diag(A.dot(np.ones((A.shape[0],1))).flatten())\n",
    "    return np.trace(H.T.dot(tmp).dot(H))+np.trace((A-B).T.dot(A-B))"
   ]
  },
  {
   "cell_type": "code",
   "execution_count": 167,
   "metadata": {
    "collapsed": true
   },
   "outputs": [],
   "source": [
    "def frob(A,B):\n",
    "    return np.trace((A-B).T.dot(A-B))"
   ]
  },
  {
   "cell_type": "code",
   "execution_count": 185,
   "metadata": {
    "collapsed": false
   },
   "outputs": [
    {
     "data": {
      "text/plain": [
       "<matplotlib.collections.PathCollection at 0x7f2dbd85bd10>"
      ]
     },
     "execution_count": 185,
     "metadata": {},
     "output_type": "execute_result"
    },
    {
     "data": {
      "image/png": "[encoded data removed]",
      "text/plain": [
       "<matplotlib.figure.Figure at 0x7f2dbde1ccd0>"
      ]
     },
     "metadata": {},
     "output_type": "display_data"
    }
   ],
   "source": [
    "x,y=make_moons(n_samples=20)\n",
    "adj_c = kneighbors_graph(x,n_neighbors=3,include_self=False)\n",
    "adj_c = 0.5*(adj_c+adj_c.T).toarray()\n",
    "lap = laplacian(adj_c).toarray()\n",
    "iter=200\n",
    "cof=0.1\n",
    "dimension =lap.shape[0]\n",
    "d2=2\n",
    "H=np.arange(dimension*4).reshape(dimension,d2)\n",
    "grad1 =np.tile((H.dot(H.T)).sum(axis=0).reshape(-1,1),(1,a.shape[1]))\n",
    "plt.scatter(x[:,0],x[:,1],c=y)\n"
   ]
  },
  {
   "cell_type": "code",
   "execution_count": 1,
   "metadata": {
    "collapsed": false
   },
   "outputs": [
    {
     "ename": "NameError",
     "evalue": "name 'np' is not defined",
     "output_type": "error",
     "traceback": [
      "\u001b[1;31m---------------------------------------------------------------------------\u001b[0m",
      "\u001b[1;31mNameError\u001b[0m                                 Traceback (most recent call last)",
      "\u001b[1;32m<ipython-input-1-8aab7267673f>\u001b[0m in \u001b[0;36m<module>\u001b[1;34m()\u001b[0m\n\u001b[0;32m      3\u001b[0m \u001b[0mdimension\u001b[0m \u001b[1;33m=\u001b[0m\u001b[1;36m3\u001b[0m\u001b[1;33m\u001b[0m\u001b[0m\n\u001b[0;32m      4\u001b[0m \u001b[0md2\u001b[0m\u001b[1;33m=\u001b[0m\u001b[1;36m4\u001b[0m\u001b[1;33m\u001b[0m\u001b[0m\n\u001b[1;32m----> 5\u001b[1;33m \u001b[0mH\u001b[0m\u001b[1;33m=\u001b[0m\u001b[0mnp\u001b[0m\u001b[1;33m.\u001b[0m\u001b[0marange\u001b[0m\u001b[1;33m(\u001b[0m\u001b[0mdimension\u001b[0m\u001b[1;33m*\u001b[0m\u001b[0md2\u001b[0m\u001b[1;33m)\u001b[0m\u001b[1;33m.\u001b[0m\u001b[0mreshape\u001b[0m\u001b[1;33m(\u001b[0m\u001b[0mdimension\u001b[0m\u001b[1;33m,\u001b[0m\u001b[0md2\u001b[0m\u001b[1;33m)\u001b[0m\u001b[1;33m\u001b[0m\u001b[0m\n\u001b[0m\u001b[0;32m      6\u001b[0m \u001b[1;33m\u001b[0m\u001b[0m\n\u001b[0;32m      7\u001b[0m \u001b[0ma\u001b[0m \u001b[1;33m=\u001b[0m \u001b[0mnp\u001b[0m\u001b[1;33m.\u001b[0m\u001b[0mrandom\u001b[0m\u001b[1;33m.\u001b[0m\u001b[0mrandint\u001b[0m\u001b[1;33m(\u001b[0m\u001b[1;36m0\u001b[0m\u001b[1;33m,\u001b[0m\u001b[1;36m2\u001b[0m\u001b[1;33m,\u001b[0m\u001b[0mdimension\u001b[0m\u001b[1;33m**\u001b[0m\u001b[1;36m2\u001b[0m\u001b[1;33m)\u001b[0m\u001b[1;33m.\u001b[0m\u001b[0mreshape\u001b[0m\u001b[1;33m(\u001b[0m\u001b[0mdimension\u001b[0m\u001b[1;33m,\u001b[0m\u001b[0mdimension\u001b[0m\u001b[1;33m)\u001b[0m\u001b[1;33m\u001b[0m\u001b[0m\n",
      "\u001b[1;31mNameError\u001b[0m: name 'np' is not defined"
     ]
    }
   ],
   "source": [
    "\n",
    "# min trace(H.Tdiag(A1).H)+Trace(A-Ac)\n",
    "dimension =3\n",
    "d2=4\n",
    "H=np.arange(dimension*d2).reshape(dimension,d2)\n",
    "\n",
    "a = np.random.randint(0,2,dimension**2).reshape(dimension,dimension)\n",
    "# a=np.array([[ -56.86704718,  -55.86937968,  -55.86704718],\n",
    "#        [-187.56148893, -187.55915643, -188.55915643],\n",
    "#        [-319.25359819, -319.25359819, -319.25359819]])\n",
    "ac = np.random.randint(0,2,dimension**2).reshape(dimension,dimension)\n",
    "plt.plot(G(a,ac))\n",
    "iter=200\n",
    "cof=0.1\n",
    "grad1 =np.tile((H.dot(H.T)).sum(axis=0).reshape(-1,1),(1,a.shape[1]))\n",
    "\n",
    "for i in range(iter):\n",
    "    grad=grad1+2*a-2*ac\n",
    "#     if i==300:\n",
    "#         q=a\n",
    "    \n",
    "    \n",
    "    \n",
    "    a = a-cof*grad\n",
    "#     cof/=1.5\n",
    "#     print a.shape\n",
    "#     plt.scatter(i,f(a))\n",
    "    plt.scatter(i,G(a,ac))\n",
    "\n",
    "print a\n",
    "print \n",
    "qq =  ac-grad1*0.5\n",
    "print qq\n",
    "print G(a,ac),G(qq,ac)\n",
    "plt.show()\n"
   ]
  },
  {
   "cell_type": "code",
   "execution_count": 206,
   "metadata": {
    "collapsed": false
   },
   "outputs": [
    {
     "name": "stdout",
     "output_type": "stream",
     "text": [
      "-1025741902.83 1.77627224373e+12\n"
     ]
    },
    {
     "data": {
      "image/png": "[encoded data removed]",
      "text/plain": [
       "<matplotlib.figure.Figure at 0x7f2dbda0b910>"
      ]
     },
     "metadata": {},
     "output_type": "display_data"
    }
   ],
   "source": [
    "\n",
    "# min trace(H.Tdiag(A1).H)+Trace(A-Ac)\n",
    "x,y=make_moons(n_samples=20,noise=0.2)\n",
    "adj_c = kneighbors_graph(x,n_neighbors=3,include_self=False)\n",
    "adj_c = 0.5*(adj_c+adj_c.T).toarray()\n",
    "dimension =adj_c.shape[1]\n",
    "d2=4\n",
    "H=np.arange(dimension*4).reshape(dimension,d2)\n",
    "\n",
    "a = np.random.randint(0,2,dimension**2).reshape(dimension,dimension)\n",
    "ac = adj_c\n",
    "plt.plot(G(a,ac))\n",
    "iter=200\n",
    "cof=0.001\n",
    "grad1 =np.tile((H.dot(H.T)).sum(axis=0).reshape(-1,1),(1,a.shape[1]))\n",
    "\n",
    "for i in range(iter):\n",
    "    grad=grad1+2*a-2*ac\n",
    "    a = a-cof*grad\n",
    "    cof/=2.5\n",
    "    plt.scatter(i,G(a,ac))\n",
    "\n",
    "# print a\n",
    "# print \n",
    "qq =  ac-grad1*0.5\n",
    "# print qq\n",
    "print G(a,ac),G(qq,ac)\n",
    "plt.show()\n"
   ]
  },
  {
   "cell_type": "code",
   "execution_count": 85,
   "metadata": {
    "collapsed": false
   },
   "outputs": [
    {
     "data": {
      "text/plain": [
       "array([[ 14,  38,  62],\n",
       "       [ 38, 126, 214],\n",
       "       [ 62, 214, 366]])"
      ]
     },
     "execution_count": 85,
     "metadata": {},
     "output_type": "execute_result"
    }
   ],
   "source": [
    "(H.dot(H.T))"
   ]
  },
  {
   "cell_type": "code",
   "execution_count": 87,
   "metadata": {
    "collapsed": false
   },
   "outputs": [
    {
     "data": {
      "text/plain": [
       "array([114, 378, 642])"
      ]
     },
     "execution_count": 87,
     "metadata": {},
     "output_type": "execute_result"
    }
   ],
   "source": [
    "(H.dot(H.T)).sum(axis=0)"
   ]
  },
  {
   "cell_type": "code",
   "execution_count": 148,
   "metadata": {
    "collapsed": false
   },
   "outputs": [
    {
     "data": {
      "text/plain": [
       "array([[ -56.86704718,  -55.86937968,  -55.86704718],\n",
       "       [-187.56148893, -187.55915643, -188.55915643],\n",
       "       [-319.25359819, -319.25359819, -319.25359819]])"
      ]
     },
     "execution_count": 148,
     "metadata": {},
     "output_type": "execute_result"
    }
   ],
   "source": [
    "q"
   ]
  },
  {
   "cell_type": "code",
   "execution_count": 119,
   "metadata": {
    "collapsed": false
   },
   "outputs": [
    {
     "name": "stdout",
     "output_type": "stream",
     "text": [
      "1002.0 1014.0\n"
     ]
    }
   ],
   "source": [
    "print G(a,ac),f(a)+np.trace((a-ac).T.dot(a-ac))**2"
   ]
  },
  {
   "cell_type": "code",
   "execution_count": 210,
   "metadata": {
    "collapsed": false
   },
   "outputs": [
    {
     "name": "stdout",
     "output_type": "stream",
     "text": [
      "[[ -56.  -57.  -56.]\n",
      " [-188. -188. -188.]\n",
      " [-320. -320. -321.]]\n",
      "272661.12\n",
      "174503.1168\n",
      "111681.994752\n",
      "71476.4766413\n",
      "45744.9450504\n",
      "29276.7648323\n",
      "18737.1294927\n",
      "11991.7628753\n",
      "7674.72824019\n",
      "4911.82607372\n",
      "[[ -5.1203284   -6.1203284   -5.1203284 ]\n",
      " [-19.29372047 -19.29372047 -19.29372047]\n",
      " [-33.46711255 -33.46711255 -34.46711255]]\n",
      "[[1 0 1]\n",
      " [1 1 1]\n",
      " [1 1 0]]\n"
     ]
    },
    {
     "data": {
      "image/png": "[encoded data removed]",
      "text/plain": [
       "<matplotlib.figure.Figure at 0x7f2dbe1c4f50>"
      ]
     },
     "metadata": {},
     "output_type": "display_data"
    }
   ],
   "source": [
    "print a\n",
    "for i in range(10):\n",
    "    grad = 2*a-2*ac\n",
    "\n",
    "    a= a-0.1*grad\n",
    "    #a= -a+2*ac\n",
    "    print frob(a,ac)\n",
    "    plt.scatter(i,frob(a,ac))\n",
    "print a\n",
    "print ac\n",
    "plt.show()"
   ]
  },
  {
   "cell_type": "code",
   "execution_count": 137,
   "metadata": {
    "collapsed": false
   },
   "outputs": [
    {
     "data": {
      "text/plain": [
       "681666487"
      ]
     },
     "execution_count": 137,
     "metadata": {},
     "output_type": "execute_result"
    }
   ],
   "source": [
    "frob(a,ac)"
   ]
  },
  {
   "cell_type": "code",
   "execution_count": 139,
   "metadata": {
    "collapsed": false
   },
   "outputs": [
    {
     "data": {
      "text/plain": [
       "681666487"
      ]
     },
     "execution_count": 139,
     "metadata": {},
     "output_type": "execute_result"
    }
   ],
   "source": [
    "frob(-a+2*ac,ac)"
   ]
  },
  {
   "cell_type": "code",
   "execution_count": null,
   "metadata": {
    "collapsed": true
   },
   "outputs": [],
   "source": [
    "np.tile"
   ]
  }
 ],
 "metadata": {
  "kernelspec": {
   "display_name": "Python [Root]",
   "language": "python",
   "name": "Python [Root]"
  },
  "language_info": {
   "codemirror_mode": {
    "name": "ipython",
    "version": 2
   },
   "file_extension": ".py",
   "mimetype": "text/x-python",
   "name": "python",
   "nbconvert_exporter": "python",
   "pygments_lexer": "ipython2",
   "version": "2.7.12"
  }
 },
 "nbformat": 4,
 "nbformat_minor": 0
}
