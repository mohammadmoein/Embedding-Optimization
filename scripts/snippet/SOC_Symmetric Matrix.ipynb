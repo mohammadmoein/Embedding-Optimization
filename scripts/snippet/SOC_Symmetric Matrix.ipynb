{
 "cells": [
  {
   "cell_type": "markdown",
   "metadata": {},
   "source": [
    "# Confirmation of working idea of bregman to handle symmetric constraint\n",
    "Here, I am trying ti solve a very simple feasibility problem to check idea of writing symmetric constratin as linear to fit it in the framework of bregman works or not.\n",
    "Let's solve following optimization:\n",
    " $$min \\quad 1$$\n",
    " $$s.t \\quad A^T=A$$\n",
    "In order to solve that we need to write down the above constraint as a linear operator and a vector something like $$Dx=f$$.We can easily do that by vectorizing A and writing operator D as a swapping operator. I show it on the code"
   ]
  },
  {
   "cell_type": "code",
   "execution_count": 1,
   "metadata": {
    "collapsed": true
   },
   "outputs": [],
   "source": [
    "import numpy as np\n",
    "import matplotlib.pyplot as plt\n",
    "import scipy.sparse as sp\n"
   ]
  },
  {
   "cell_type": "code",
   "execution_count": 5,
   "metadata": {
    "collapsed": false
   },
   "outputs": [
    {
     "name": "stdout",
     "output_type": "stream",
     "text": [
      "<class 'scipy.sparse.csr.csr_matrix'>\n",
      "True\n"
     ]
    }
   ],
   "source": [
    "from scipy.sparse import csr_matrix,csc_matrix\n",
    "\n",
    "dimension=3\n",
    "A = np.random.randint(low=0,high=99,size=(dimension,dimension))\n",
    "M=np.zeros((dimension**2,dimension**2))\n",
    "# print row_\n",
    "row_=np.arange(0,dimension**2).reshape(dimension,dimension)\n",
    "col = np.arange(0,dimension**2).reshape(dimension,dimension,order='F')\n",
    "ij=np.vstack((row_.flatten(),col.flatten()))\n",
    "\n",
    "# indptr = row_.flatten()\n",
    "# indices=col.flatten()\n",
    "data=np.ones(dimension**2)\n",
    "q_sparse=csr_matrix( (data,ij), shape=(dimension**2,dimension**2) )\n",
    "# csr_matrix((data,ij))\n",
    "AT=csr_matrix(A.flatten()).dot(q_sparse)\n",
    "# print np.allclose(q_sparse,M)\n",
    "q=np.dstack((row_,col))\n",
    "\n",
    "for i in range(dimension):\n",
    "    M[q[i,:,0],q[i,:,1]]=1\n",
    "res= M.dot(A.flatten()).reshape(dimension,dimension)\n",
    "# print np.allclose(M,q_sparse)\n",
    "print type(AT)\n",
    "print np.allclose(AT.todense(),A.T.flatten())"
   ]
  },
  {
   "cell_type": "code",
   "execution_count": 7,
   "metadata": {
    "collapsed": false
   },
   "outputs": [
    {
     "name": "stdout",
     "output_type": "stream",
     "text": [
      "(9,)\n",
      "(9, 9)\n",
      "[ 0.  0.  0.  0.  0.  0.  0.  0.  0.]\n",
      "True\n"
     ]
    }
   ],
   "source": [
    "\n",
    "\n",
    "iter=100\n",
    "r=2\n",
    "b=np.random.randint(low=0,high=99,size=dimension**2)\n",
    "print b.shape\n",
    "D=M-np.identity(dimension**2)\n",
    "print D.shape\n",
    "for i in range(iter):\n",
    "#     x=sp.linalg.spsolve(D.T.dot(D),D.T.dot(b))\n",
    "    x=np.linalg.lstsq(-1*D.T.dot(D),D.T.dot(b))[0]\n",
    "#     print x\n",
    "    b=b+D.dot(x)\n",
    "\n",
    "print x\n",
    "x=x.reshape(dimension,dimension)\n",
    "print np.allclose(x,x.T)"
   ]
  },
  {
   "cell_type": "code",
   "execution_count": 54,
   "metadata": {
    "collapsed": false
   },
   "outputs": [
    {
     "data": {
      "text/plain": [
       "<module 'scipy.sparse.linalg' from '/home/mohammad/anaconda2/lib/python2.7/site-packages/scipy/sparse/linalg/__init__.pyc'>"
      ]
     },
     "execution_count": 54,
     "metadata": {},
     "output_type": "execute_result"
    }
   ],
   "source": [
    "\n",
    "sp.linalg.li"
   ]
  },
  {
   "cell_type": "code",
   "execution_count": 8,
   "metadata": {
    "collapsed": false
   },
   "outputs": [
    {
     "name": "stdout",
     "output_type": "stream",
     "text": [
      "[[ 1.  0.  0.  0.  0.  0.  0.  0.  0.]\n",
      " [ 0.  0.  0.  1.  0.  0.  0.  0.  0.]\n",
      " [ 0.  0.  0.  0.  0.  0.  1.  0.  0.]\n",
      " [ 0.  1.  0.  0.  0.  0.  0.  0.  0.]\n",
      " [ 0.  0.  0.  0.  1.  0.  0.  0.  0.]\n",
      " [ 0.  0.  0.  0.  0.  0.  0.  1.  0.]\n",
      " [ 0.  0.  1.  0.  0.  0.  0.  0.  0.]\n",
      " [ 0.  0.  0.  0.  0.  1.  0.  0.  0.]\n",
      " [ 0.  0.  0.  0.  0.  0.  0.  0.  1.]]\n"
     ]
    }
   ],
   "source": [
    "print M\n",
    "\n"
   ]
  },
  {
   "cell_type": "code",
   "execution_count": 81,
   "metadata": {
    "collapsed": false
   },
   "outputs": [
    {
     "data": {
      "text/plain": [
       "array([ 59.,  26.,  92.,  19.,   9.,  74.,   6.,  77.,   7.])"
      ]
     },
     "execution_count": 81,
     "metadata": {},
     "output_type": "execute_result"
    }
   ],
   "source": [
    "M.dot(A.flatten())-A.flatten()"
   ]
  },
  {
   "cell_type": "code",
   "execution_count": 83,
   "metadata": {
    "collapsed": false
   },
   "outputs": [
    {
     "data": {
      "text/plain": [
       "array([59, 26, 92, 19,  9, 74,  6, 77,  7])"
      ]
     },
     "execution_count": 83,
     "metadata": {},
     "output_type": "execute_result"
    }
   ],
   "source": [
    "A.flatten(order='F')"
   ]
  },
  {
   "cell_type": "code",
   "execution_count": 84,
   "metadata": {
    "collapsed": false
   },
   "outputs": [
    {
     "data": {
      "text/plain": [
       "array([[59, 19,  6],\n",
       "       [26,  9, 77],\n",
       "       [92, 74,  7]])"
      ]
     },
     "execution_count": 84,
     "metadata": {},
     "output_type": "execute_result"
    }
   ],
   "source": [
    "A"
   ]
  },
  {
   "cell_type": "code",
   "execution_count": null,
   "metadata": {
    "collapsed": true
   },
   "outputs": [],
   "source": []
  }
 ],
 "metadata": {
  "kernelspec": {
   "display_name": "Python [Root]",
   "language": "python",
   "name": "Python [Root]"
  },
  "language_info": {
   "codemirror_mode": {
    "name": "ipython",
    "version": 2
   },
   "file_extension": ".py",
   "mimetype": "text/x-python",
   "name": "python",
   "nbconvert_exporter": "python",
   "pygments_lexer": "ipython2",
   "version": "2.7.12"
  }
 },
 "nbformat": 4,
 "nbformat_minor": 0
}
